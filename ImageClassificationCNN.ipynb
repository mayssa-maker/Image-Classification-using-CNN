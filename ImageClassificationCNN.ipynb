{
 "cells": [
  {
   "cell_type": "markdown",
   "metadata": {},
   "source": [
    "# Image Classification using CNN"
   ]
  },
  {
   "cell_type": "markdown",
   "metadata": {},
   "source": [
    "## Importing libraries"
   ]
  },
  {
   "cell_type": "code",
   "execution_count": 32,
   "metadata": {},
   "outputs": [],
   "source": [
    "#https://www.kaggle.com/chetankv/dogs-cats-images data set from kaggle\n",
    "# Importing the Keras libraries and packages\n",
    "from keras.models import Sequential\n",
    "from keras.layers import Conv2D\n",
    "from keras.layers import MaxPooling2D\n",
    "from keras.layers import Flatten\n",
    "from keras.layers import Dense"
   ]
  },
  {
   "cell_type": "markdown",
   "metadata": {},
   "source": [
    "## Initialising the CNN"
   ]
  },
  {
   "cell_type": "code",
   "execution_count": 33,
   "metadata": {},
   "outputs": [],
   "source": [
    "classifier = Sequential()"
   ]
  },
  {
   "cell_type": "markdown",
   "metadata": {},
   "source": [
    "### Step1 : Convolution"
   ]
  },
  {
   "cell_type": "code",
   "execution_count": 34,
   "metadata": {},
   "outputs": [],
   "source": [
    "classifier.add(Conv2D(32, (3, 3), input_shape = (64, 64, 3), activation = 'relu'))"
   ]
  },
  {
   "cell_type": "markdown",
   "metadata": {},
   "source": [
    "### Step2: Pooling"
   ]
  },
  {
   "cell_type": "code",
   "execution_count": 35,
   "metadata": {},
   "outputs": [],
   "source": [
    "classifier.add(MaxPooling2D(pool_size = (2, 2)))"
   ]
  },
  {
   "cell_type": "markdown",
   "metadata": {},
   "source": [
    "### Adding a second convolutional layer"
   ]
  },
  {
   "cell_type": "code",
   "execution_count": 36,
   "metadata": {},
   "outputs": [],
   "source": [
    "#classifier.add(Conv2D(32, (3, 3), activation = 'relu'))\n",
    "#classifier.add(MaxPooling2D(pool_size = (2, 2)))"
   ]
  },
  {
   "cell_type": "markdown",
   "metadata": {},
   "source": [
    "### Step3: Flattening"
   ]
  },
  {
   "cell_type": "code",
   "execution_count": 37,
   "metadata": {},
   "outputs": [],
   "source": [
    "classifier.add(Flatten())"
   ]
  },
  {
   "cell_type": "markdown",
   "metadata": {},
   "source": [
    "### Step4:Fully connection"
   ]
  },
  {
   "cell_type": "code",
   "execution_count": 38,
   "metadata": {},
   "outputs": [],
   "source": [
    "classifier.add(Dense(units = 128, activation = 'relu'))\n",
    "classifier.add(Dense(units = 1, activation = 'sigmoid'))"
   ]
  },
  {
   "cell_type": "markdown",
   "metadata": {},
   "source": [
    "### Compiling the cnn"
   ]
  },
  {
   "cell_type": "code",
   "execution_count": 39,
   "metadata": {},
   "outputs": [],
   "source": [
    "classifier.compile(optimizer = 'adam', loss = 'binary_crossentropy', metrics = ['accuracy'])\n",
    "#Optimizer parameter is to choose the stochastic gradient descent algorithm.\n",
    "#Loss parameter is to choose the loss function.\n",
    "#the metrics parameter is to choose the performance metric"
   ]
  },
  {
   "cell_type": "markdown",
   "metadata": {},
   "source": [
    "## Fitting the CNN to the images "
   ]
  },
  {
   "cell_type": "code",
   "execution_count": 45,
   "metadata": {},
   "outputs": [
    {
     "name": "stdout",
     "output_type": "stream",
     "text": [
      "Found 8000 images belonging to 2 classes.\n",
      "Found 2000 images belonging to 2 classes.\n",
      "Epoch 1/25\n",
      "250/250 [==============================] - 46s 182ms/step - loss: 0.5651 - accuracy: 0.7109 - val_loss: 0.5832 - val_accuracy: 0.6965\n",
      "Epoch 2/25\n",
      "250/250 [==============================] - 42s 170ms/step - loss: 0.5492 - accuracy: 0.7180 - val_loss: 0.5351 - val_accuracy: 0.7345\n",
      "Epoch 3/25\n",
      "250/250 [==============================] - 47s 189ms/step - loss: 0.5294 - accuracy: 0.7327 - val_loss: 0.5385 - val_accuracy: 0.7280\n",
      "Epoch 4/25\n",
      "250/250 [==============================] - 47s 188ms/step - loss: 0.5176 - accuracy: 0.7434 - val_loss: 0.5866 - val_accuracy: 0.7120\n",
      "Epoch 5/25\n",
      "250/250 [==============================] - 43s 172ms/step - loss: 0.5044 - accuracy: 0.7555 - val_loss: 0.5290 - val_accuracy: 0.7465\n",
      "Epoch 6/25\n",
      "250/250 [==============================] - 43s 173ms/step - loss: 0.4941 - accuracy: 0.7607 - val_loss: 0.5248 - val_accuracy: 0.7520\n",
      "Epoch 7/25\n",
      "250/250 [==============================] - 44s 177ms/step - loss: 0.4848 - accuracy: 0.7620 - val_loss: 0.5233 - val_accuracy: 0.7410\n",
      "Epoch 8/25\n",
      "250/250 [==============================] - 43s 172ms/step - loss: 0.4726 - accuracy: 0.7725 - val_loss: 0.5090 - val_accuracy: 0.7680\n",
      "Epoch 9/25\n",
      "250/250 [==============================] - 41s 163ms/step - loss: 0.4603 - accuracy: 0.7825 - val_loss: 0.5224 - val_accuracy: 0.7555\n",
      "Epoch 10/25\n",
      "250/250 [==============================] - 42s 166ms/step - loss: 0.4477 - accuracy: 0.7886 - val_loss: 0.5135 - val_accuracy: 0.7785\n",
      "Epoch 11/25\n",
      "250/250 [==============================] - 40s 159ms/step - loss: 0.4513 - accuracy: 0.7826 - val_loss: 0.5168 - val_accuracy: 0.7655\n",
      "Epoch 12/25\n",
      "250/250 [==============================] - 41s 166ms/step - loss: 0.4241 - accuracy: 0.7993 - val_loss: 0.5674 - val_accuracy: 0.7440\n",
      "Epoch 13/25\n",
      "250/250 [==============================] - 40s 159ms/step - loss: 0.4242 - accuracy: 0.8027 - val_loss: 0.5325 - val_accuracy: 0.7735\n",
      "Epoch 14/25\n",
      "250/250 [==============================] - 39s 156ms/step - loss: 0.4256 - accuracy: 0.8000 - val_loss: 0.5088 - val_accuracy: 0.7750\n",
      "Epoch 15/25\n",
      "250/250 [==============================] - 39s 158ms/step - loss: 0.4129 - accuracy: 0.8065 - val_loss: 0.5500 - val_accuracy: 0.7570\n",
      "Epoch 16/25\n",
      "250/250 [==============================] - 40s 161ms/step - loss: 0.4070 - accuracy: 0.8092 - val_loss: 0.5244 - val_accuracy: 0.7835\n",
      "Epoch 17/25\n",
      "250/250 [==============================] - 45s 178ms/step - loss: 0.3947 - accuracy: 0.8196 - val_loss: 0.5645 - val_accuracy: 0.7600\n",
      "Epoch 18/25\n",
      "250/250 [==============================] - 48s 192ms/step - loss: 0.3872 - accuracy: 0.8307 - val_loss: 0.5224 - val_accuracy: 0.7750\n",
      "Epoch 19/25\n",
      "250/250 [==============================] - 55s 218ms/step - loss: 0.3775 - accuracy: 0.8281 - val_loss: 0.5802 - val_accuracy: 0.7710\n",
      "Epoch 20/25\n",
      "250/250 [==============================] - 49s 197ms/step - loss: 0.3689 - accuracy: 0.8361 - val_loss: 0.6731 - val_accuracy: 0.7360\n",
      "Epoch 21/25\n",
      "250/250 [==============================] - 45s 179ms/step - loss: 0.3650 - accuracy: 0.8340 - val_loss: 0.5943 - val_accuracy: 0.7570\n",
      "Epoch 22/25\n",
      "250/250 [==============================] - 49s 194ms/step - loss: 0.3582 - accuracy: 0.8419 - val_loss: 0.5622 - val_accuracy: 0.7730\n",
      "Epoch 23/25\n",
      "250/250 [==============================] - 48s 190ms/step - loss: 0.3494 - accuracy: 0.8441 - val_loss: 0.6127 - val_accuracy: 0.7710\n",
      "Epoch 24/25\n",
      "250/250 [==============================] - 51s 203ms/step - loss: 0.3394 - accuracy: 0.8530 - val_loss: 0.5526 - val_accuracy: 0.7845\n",
      "Epoch 25/25\n",
      "250/250 [==============================] - 43s 170ms/step - loss: 0.3342 - accuracy: 0.8506 - val_loss: 0.6251 - val_accuracy: 0.7525\n"
     ]
    },
    {
     "data": {
      "text/plain": [
       "<keras.callbacks.History at 0x7fd83a551c50>"
      ]
     },
     "execution_count": 45,
     "metadata": {},
     "output_type": "execute_result"
    }
   ],
   "source": [
    "\n",
    "from keras.preprocessing.image import ImageDataGenerator\n",
    "train_datagen = ImageDataGenerator(rescale = 1./255,\n",
    "shear_range = 0.2,\n",
    "zoom_range = 0.2,\n",
    "horizontal_flip = True)\n",
    "test_datagen = ImageDataGenerator(rescale = 1./255)\n",
    "training_set = train_datagen.flow_from_directory('/home/mayssa/deepleerning/dataset/training_set',target_size = (64, 64),\n",
    "batch_size = 32,class_mode = 'binary')\n",
    "test_set = test_datagen.flow_from_directory('/home/mayssa/deepleerning/dataset/test_set',target_size = (64, 64),\n",
    "batch_size = 32,class_mode = 'binary')\n",
    "classifier.fit(training_set,epochs = 25,validation_data = test_set)"
   ]
  },
  {
   "cell_type": "markdown",
   "metadata": {},
   "source": [
    "## Part3: Making new predictions"
   ]
  },
  {
   "cell_type": "code",
   "execution_count": 46,
   "metadata": {},
   "outputs": [
    {
     "name": "stdout",
     "output_type": "stream",
     "text": [
      "dog\n"
     ]
    }
   ],
   "source": [
    "import numpy as np\n",
    "from keras.preprocessing import image\n",
    "test_image = image.load_img('/home/mayssa/deepleerning/dataset/cat-or-dog1.jpg', target_size = (64, 64)) #image of dog\n",
    "test_image = image.img_to_array(test_image)\n",
    "test_image = np.expand_dims(test_image, axis = 0)\n",
    "result = classifier.predict(test_image)\n",
    "training_set.class_indices\n",
    "if result[0][0] == 1:\n",
    " prediction = 'dog'\n",
    "else:\n",
    " prediction = 'cat'\n",
    "print(prediction)"
   ]
  },
  {
   "cell_type": "code",
   "execution_count": 47,
   "metadata": {},
   "outputs": [
    {
     "name": "stdout",
     "output_type": "stream",
     "text": [
      "cat\n"
     ]
    }
   ],
   "source": [
    "import numpy as np\n",
    "from keras.preprocessing import image\n",
    "test_image = image.load_img('/home/mayssa/deepleerning/dataset/cat-or-dog2.jpeg', target_size = (64, 64)) #image of cat\n",
    "test_image = image.img_to_array(test_image)\n",
    "test_image = np.expand_dims(test_image, axis = 0)\n",
    "result = classifier.predict(test_image)\n",
    "training_set.class_indices\n",
    "if result[0][0] == 1:\n",
    " prediction = 'dog'\n",
    "else:\n",
    " prediction = 'cat'\n",
    "print(prediction)"
   ]
  },
  {
   "cell_type": "code",
   "execution_count": null,
   "metadata": {},
   "outputs": [],
   "source": []
  }
 ],
 "metadata": {
  "kernelspec": {
   "display_name": "Python 3",
   "language": "python",
   "name": "python3"
  },
  "language_info": {
   "codemirror_mode": {
    "name": "ipython",
    "version": 3
   },
   "file_extension": ".py",
   "mimetype": "text/x-python",
   "name": "python",
   "nbconvert_exporter": "python",
   "pygments_lexer": "ipython3",
   "version": "3.7.3"
  }
 },
 "nbformat": 4,
 "nbformat_minor": 2
}
